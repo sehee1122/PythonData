{
 "cells": [
  {
   "cell_type": "markdown",
   "metadata": {},
   "source": [
    "# jupyter notebook 단축키\n",
    "## A : 위쪽에 셀 삽입\n",
    "## B : 아래쪽에 셀 삽입\n",
    "## X : 해당 셀 삭제\n",
    "## Z : 삭제할 셀 복구\n",
    "## ctrl + D : 해당 커서 라인 삭제\n",
    "## ctrl + A : 해당 셀 전체 선택\n",
    "## ctrl + Z : 셀 내용 복구\n",
    "## python에서 주석 처리는 # 여러줄 주석 처리는 '''\n",
    "## ctrl + / : 한꺼번에 주석처리\n",
    "## ctrl + Enter : 셀 실행\n",
    "## shift + Enter : 셀 실행 후 커서 아래쪽으로 이동"
   ]
  },
  {
   "cell_type": "code",
   "execution_count": null,
   "metadata": {},
   "outputs": [],
   "source": [
    "# 파이썬에서 주석처리\n",
    "# 필기할 내용이 있으면 이렇게 주석처리 하시면 됩니다"
   ]
  },
  {
   "cell_type": "code",
   "execution_count": null,
   "metadata": {},
   "outputs": [],
   "source": [
    "'''\n",
    "여러줄 주석처리 하고 싶을때 사용\n",
    "나중에 class라는 개념을 배울때 자주 사용됩니다\n",
    "수업 시간에서는 한줄 주석이 많이 사용되니까 #을 활용해주세요\n",
    "'''"
   ]
  },
  {
   "cell_type": "markdown",
   "metadata": {},
   "source": [
    "# range(start, end, by)\n",
    "# start에서 시작해서 end까지 by만큼 증가"
   ]
  },
  {
   "cell_type": "code",
   "execution_count": null,
   "metadata": {
    "scrolled": true
   },
   "outputs": [],
   "source": [
    "# 1 ~100 사이의 홀수만 출력\n"
   ]
  },
  {
   "cell_type": "code",
   "execution_count": null,
   "metadata": {
    "scrolled": true
   },
   "outputs": [],
   "source": [
    "# 1 ~100 사이의 짝수만 출력\n"
   ]
  },
  {
   "cell_type": "markdown",
   "metadata": {},
   "source": [
    "# for문"
   ]
  },
  {
   "cell_type": "code",
   "execution_count": null,
   "metadata": {},
   "outputs": [],
   "source": []
  },
  {
   "cell_type": "markdown",
   "metadata": {},
   "source": [
    "# 구구단(2단~9단) 만들어보기\n",
    "## 2 * 1 = 2\n",
    "## 2 * 2 = 4\n",
    "## 2 * 3 = 6\n",
    "## 2 * 4 = 8\n",
    "## 2 * 5 = 10\n",
    "## 2 * 6 = 12\n",
    "## 2 * 7 = 14\n",
    "## 2 * 8 = 16\n",
    "## 2 * 9 = 18"
   ]
  },
  {
   "cell_type": "code",
   "execution_count": null,
   "metadata": {
    "scrolled": true
   },
   "outputs": [],
   "source": []
  },
  {
   "cell_type": "markdown",
   "metadata": {},
   "source": [
    "# 피라미드 만들어보기"
   ]
  },
  {
   "cell_type": "code",
   "execution_count": null,
   "metadata": {},
   "outputs": [],
   "source": [
    "# HINT\n",
    "# *을 4번 출력할 경우\n"
   ]
  },
  {
   "cell_type": "code",
   "execution_count": 1,
   "metadata": {},
   "outputs": [
    {
     "name": "stdout",
     "output_type": "stream",
     "text": [
      "    *\n",
      "   ***\n",
      "  *****\n",
      " *******\n"
     ]
    }
   ],
   "source": []
  },
  {
   "cell_type": "markdown",
   "metadata": {},
   "source": [
    "# if 문"
   ]
  },
  {
   "cell_type": "code",
   "execution_count": null,
   "metadata": {},
   "outputs": [],
   "source": [
    "# 1~100 사이의 짝수 홀수 출력\n"
   ]
  },
  {
   "cell_type": "markdown",
   "metadata": {},
   "source": [
    "# list 자료 구조"
   ]
  },
  {
   "cell_type": "code",
   "execution_count": null,
   "metadata": {
    "scrolled": true
   },
   "outputs": [],
   "source": [
    "# [] 대괄호를 통하여 list자료 구조를 선언\n",
    "\n",
    "# for문을 이용하여 1~100사이의 홀수를 list안에 담기\n"
   ]
  },
  {
   "cell_type": "code",
   "execution_count": null,
   "metadata": {},
   "outputs": [],
   "source": [
    "# len() : list의 길이 확인\n"
   ]
  },
  {
   "cell_type": "code",
   "execution_count": null,
   "metadata": {},
   "outputs": [],
   "source": [
    "# list slicing\n",
    "\n",
    "# odd_100에서 1~10번째 값만 추출\n",
    "\n",
    "# odd_100에서 40~50번째 값만 추출\n",
    "\n",
    "# odd_100에서 마지막 값 추출\n"
   ]
  },
  {
   "cell_type": "code",
   "execution_count": null,
   "metadata": {
    "scrolled": true
   },
   "outputs": [],
   "source": [
    "# [start:end:by] 세미콜론 2개를 통한 index slicing\n"
   ]
  },
  {
   "cell_type": "code",
   "execution_count": null,
   "metadata": {},
   "outputs": [],
   "source": [
    "# append() : list에 값 추가\n",
    "\n",
    "# odd_100에 방금 추가한 값 확인해보기\n"
   ]
  },
  {
   "cell_type": "code",
   "execution_count": null,
   "metadata": {
    "scrolled": true
   },
   "outputs": [],
   "source": [
    "# del  : list 값 삭제\n",
    "# 괄호안에 해당 index를 통하여 접근\n"
   ]
  },
  {
   "cell_type": "code",
   "execution_count": null,
   "metadata": {},
   "outputs": [],
   "source": [
    "# 나이를 넣은 list 생성\n",
    "\n",
    "# sort() : list 정렬\n"
   ]
  },
  {
   "cell_type": "markdown",
   "metadata": {},
   "source": [
    "# dictionary 자료 구조\n",
    "## key : value라는 구조로 대응 관계를 표현\n",
    "## ex) {'name' : '양용준', 'school' : '연세대', 'age' : 'secret'}\n",
    "## {}를 통하여 표현하고 ,를 통해 구분"
   ]
  },
  {
   "cell_type": "code",
   "execution_count": null,
   "metadata": {},
   "outputs": [],
   "source": []
  },
  {
   "cell_type": "code",
   "execution_count": null,
   "metadata": {},
   "outputs": [],
   "source": [
    "# key를 통하여 value 접근\n"
   ]
  },
  {
   "cell_type": "code",
   "execution_count": null,
   "metadata": {},
   "outputs": [],
   "source": [
    "# dictionary에 key, value 추가\n",
    "\n",
    "# value 수정\n"
   ]
  },
  {
   "cell_type": "code",
   "execution_count": null,
   "metadata": {},
   "outputs": [],
   "source": [
    "# del dictionary[key] : key를 통해 key:value 한쌍 지우기\n"
   ]
  },
  {
   "cell_type": "code",
   "execution_count": null,
   "metadata": {},
   "outputs": [],
   "source": [
    "# dictionary key 모음\n",
    "\n",
    "# dictionary value 모음\n",
    "\n",
    "# for문을 통하여 key를 통해 각 key에 해당하는 value 접근\n"
   ]
  },
  {
   "cell_type": "code",
   "execution_count": null,
   "metadata": {},
   "outputs": [],
   "source": [
    "# dictionary key,value 모음\n",
    "\n",
    "# for문을 통하여 key, value 접근\n"
   ]
  },
  {
   "cell_type": "code",
   "execution_count": null,
   "metadata": {},
   "outputs": [],
   "source": [
    "# 새로운 dictionary 생성\n"
   ]
  },
  {
   "cell_type": "code",
   "execution_count": null,
   "metadata": {},
   "outputs": [],
   "source": [
    "# sorted(a, key = lambda x : 정렬 기준)\n",
    "\n",
    "# 나이를 기준으로 정렬\n"
   ]
  },
  {
   "cell_type": "markdown",
   "metadata": {},
   "source": [
    "# Set 자료구조\n",
    "# 집합 : 데이터 분석에서 Set 자료구조를 사용하는 이유는 중복된 값을 제거 해주기 때문"
   ]
  },
  {
   "cell_type": "code",
   "execution_count": null,
   "metadata": {},
   "outputs": [],
   "source": []
  },
  {
   "cell_type": "code",
   "execution_count": null,
   "metadata": {},
   "outputs": [],
   "source": [
    "# set 자료구조 만들기\n"
   ]
  },
  {
   "cell_type": "code",
   "execution_count": null,
   "metadata": {},
   "outputs": [],
   "source": [
    "# intersection : 교집합\n"
   ]
  },
  {
   "cell_type": "code",
   "execution_count": null,
   "metadata": {},
   "outputs": [],
   "source": [
    "# union: 합집합\n"
   ]
  },
  {
   "cell_type": "code",
   "execution_count": null,
   "metadata": {},
   "outputs": [],
   "source": [
    "# difference :차집합\n"
   ]
  }
 ],
 "metadata": {
  "kernelspec": {
   "display_name": "Python 3",
   "language": "python",
   "name": "python3"
  },
  "language_info": {
   "codemirror_mode": {
    "name": "ipython",
    "version": 3
   },
   "file_extension": ".py",
   "mimetype": "text/x-python",
   "name": "python",
   "nbconvert_exporter": "python",
   "pygments_lexer": "ipython3",
   "version": "3.7.4"
  }
 },
 "nbformat": 4,
 "nbformat_minor": 2
}

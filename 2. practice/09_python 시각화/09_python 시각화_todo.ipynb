{
 "cells": [
  {
   "cell_type": "markdown",
   "metadata": {},
   "source": [
    "## 필요한 모듈 불러오기"
   ]
  },
  {
   "cell_type": "code",
   "execution_count": 1,
   "metadata": {},
   "outputs": [],
   "source": [
    "\n",
    "# 주피터 노트북을 사용하는 경우에는 다음처럼 매직(magic) 명령으로 노트북 내부에 그림을 표시하도록 지정해야 한다.\n"
   ]
  },
  {
   "cell_type": "markdown",
   "metadata": {},
   "source": [
    "<img src=\"img/예제실습/matplotlib인자.jpg\" alt=\" matplotlib\" style=\"width: 1200px;\"/>\n",
    "\n",
    "#### 색상: https://matplotlib.org/examples/color/named_colors.html\n",
    "#### 기타 스타일: https://matplotlib.org/api/_as_gen/matplotlib.lines.Line2D.html#matplotlib.lines.Line2D"
   ]
  },
  {
   "cell_type": "markdown",
   "metadata": {},
   "source": [
    "## 1. line 그리기\n"
   ]
  },
  {
   "cell_type": "markdown",
   "metadata": {},
   "source": [
    "### (1) plt.plot(data,'rs--')\n",
    "### - 색깔(color), 마커(marker), 선 종류(line style)의 순서로 지정한다. 만약 이 중 일부가 생략되면 디폴트값이 적용\n",
    "### - list, series 둘다 가능\n",
    "### - 기본적으로 해당 자료구조의 index가 x축 value가 y축으로 들어가게됨"
   ]
  },
  {
   "cell_type": "code",
   "execution_count": null,
   "metadata": {},
   "outputs": [],
   "source": [
    "sr = pd.Series([1, 2, 4, 8, 16], index=['a', 'b', 'c', 'd', 'e'])\n",
    "sr"
   ]
  },
  {
   "cell_type": "code",
   "execution_count": null,
   "metadata": {
    "scrolled": true
   },
   "outputs": [],
   "source": [
    "# line을 그리는 함수\n",
    "\n",
    "# jupyter notebook에서는 셀마다 실행하기 때문에 필요 없지만 다른 interpreter방식에서는 적어줘야함\n"
   ]
  },
  {
   "cell_type": "markdown",
   "metadata": {},
   "source": [
    "## 실습"
   ]
  },
  {
   "cell_type": "code",
   "execution_count": null,
   "metadata": {},
   "outputs": [],
   "source": [
    "# 이미지 크기 변경\n",
    "\n",
    "\n",
    "# plot 그리기\n",
    "\n",
    "\n",
    "# x축 이름 지정\n",
    "\n",
    "\n",
    "# y축 이름 지정\n",
    "\n",
    "\n",
    "# 제목 지정\n",
    "\n",
    "\n",
    "# 범례 추가\n",
    "# upper, center, lower / left, center, right\n",
    "\n",
    "\n",
    "# 축값 변경\n",
    "\n",
    "\n",
    "# grid 표사\n",
    "\n"
   ]
  },
  {
   "cell_type": "code",
   "execution_count": null,
   "metadata": {
    "scrolled": false
   },
   "outputs": [],
   "source": [
    "# 이미지 크기 변경\n",
    "\n",
    "\n",
    "# plot 그리기\n",
    "\n",
    "\n",
    "# x축 이름 지정\n",
    "\n",
    "\n",
    "# y축 이름 지정\n",
    "\n",
    "\n",
    "# 제목 지정\n",
    "\n",
    "\n",
    "# 범례 추가\n",
    "# upper, center, lower / left, center, right\n",
    "\n",
    "\n",
    "# 축값 변경\n",
    "\n",
    "\n",
    "# grid 표사\n",
    "\n"
   ]
  },
  {
   "cell_type": "markdown",
   "metadata": {},
   "source": [
    "## (2) data.plot()\n",
    "## axes = data.plot()으로 지정후 시각화 변경"
   ]
  },
  {
   "cell_type": "code",
   "execution_count": null,
   "metadata": {
    "scrolled": false
   },
   "outputs": [],
   "source": []
  },
  {
   "cell_type": "code",
   "execution_count": null,
   "metadata": {},
   "outputs": [],
   "source": [
    "# x축 이름 지정\n",
    "\n",
    "\n",
    "# # y축 이름 지정\n",
    "\n",
    "\n",
    "# # 제목 지정\n",
    "\n",
    "\n",
    "# 범례 추가\n",
    "# upper, center, lower / left, center, right\n",
    "\n",
    "\n",
    "# 축값 변경\n",
    "\n",
    "\n",
    "# grid 표사\n",
    "\n",
    "\n"
   ]
  },
  {
   "cell_type": "markdown",
   "metadata": {},
   "source": [
    "## 2. bar 그리기\n",
    "### plt.bar(x = 'x축 표시', height = 'y축 표시', width = '너비', color = '색깔')"
   ]
  },
  {
   "cell_type": "code",
   "execution_count": null,
   "metadata": {},
   "outputs": [],
   "source": [
    "import random\n",
    "\n",
    "sr2 = pd.Series(random.sample(range(100, 1001), 5), index = list('abcde'))\n",
    "sr2"
   ]
  },
  {
   "cell_type": "code",
   "execution_count": null,
   "metadata": {},
   "outputs": [],
   "source": [
    "# bar 그리기\n",
    "\n",
    "\n",
    "# x축 지정\n",
    "\n",
    "\n",
    "# y축 지정\n",
    "\n",
    "\n",
    "# 제목\n",
    "\n",
    "\n",
    "\n"
   ]
  },
  {
   "cell_type": "code",
   "execution_count": null,
   "metadata": {
    "scrolled": true
   },
   "outputs": [],
   "source": []
  },
  {
   "cell_type": "markdown",
   "metadata": {},
   "source": [
    "## 여러개의 그래프를 하나로 그리기"
   ]
  },
  {
   "cell_type": "code",
   "execution_count": null,
   "metadata": {},
   "outputs": [],
   "source": [
    "# figsize 지정\n",
    "\n",
    "# ax1\n",
    "\n",
    "# ax2\n",
    "\n",
    "# ax3\n",
    "\n",
    "# ax4\n",
    "\n",
    "# histogram 그리기\n",
    "\n",
    "# bar 그리기\n",
    "\n",
    "# scatter 그리기\n",
    "\n",
    "# ax4 위치에 y=x 그래프를 그려보기\n",
    "\n",
    "\n"
   ]
  },
  {
   "cell_type": "code",
   "execution_count": null,
   "metadata": {},
   "outputs": [],
   "source": [
    "# style 변경\n",
    "# 사용가능한 style 출력\n"
   ]
  },
  {
   "cell_type": "code",
   "execution_count": null,
   "metadata": {},
   "outputs": [],
   "source": [
    "# ggplot 사용\n"
   ]
  },
  {
   "cell_type": "code",
   "execution_count": null,
   "metadata": {},
   "outputs": [],
   "source": [
    "# plot그려보기\n"
   ]
  },
  {
   "cell_type": "markdown",
   "metadata": {},
   "source": [
    "### 1. iris에서 sepal_length(꽃받침의 길이) 1행부터 20행까지의 데이터로 막대그래프 그리기\n",
    "### 단 sepal_length의 길이가 5가 넘으면 파란색 아니면 빨간색"
   ]
  },
  {
   "cell_type": "markdown",
   "metadata": {},
   "source": [
    "## 실습"
   ]
  },
  {
   "cell_type": "code",
   "execution_count": null,
   "metadata": {},
   "outputs": [],
   "source": [
    "# 데이터 불러오기\n"
   ]
  },
  {
   "cell_type": "markdown",
   "metadata": {},
   "source": [
    "## 2. iris에서 1행부터 5행까지의 데이터를 시각화해보기"
   ]
  },
  {
   "cell_type": "code",
   "execution_count": null,
   "metadata": {},
   "outputs": [],
   "source": []
  },
  {
   "cell_type": "markdown",
   "metadata": {},
   "source": [
    "## 3. species별 평균 막대그래프 시각화"
   ]
  },
  {
   "cell_type": "code",
   "execution_count": null,
   "metadata": {},
   "outputs": [],
   "source": []
  },
  {
   "cell_type": "markdown",
   "metadata": {},
   "source": [
    "## 4. 성별에따른 fare, age 평균 막대그래프 시각화"
   ]
  },
  {
   "cell_type": "code",
   "execution_count": null,
   "metadata": {},
   "outputs": [],
   "source": []
  },
  {
   "cell_type": "markdown",
   "metadata": {},
   "source": [
    "## 5. titanic에서\n",
    "## - fare와 age column에서 NaN값을 지우고\n",
    "## - 나이를 기준으로 오름차순 정렬 이후\n",
    "## - 나이에 따른 요금 선그래프 시각화"
   ]
  },
  {
   "cell_type": "code",
   "execution_count": null,
   "metadata": {
    "scrolled": false
   },
   "outputs": [],
   "source": []
  },
  {
   "cell_type": "markdown",
   "metadata": {},
   "source": [
    "## 선실별 승객 수 비율 pie chart 시각화"
   ]
  },
  {
   "cell_type": "code",
   "execution_count": null,
   "metadata": {},
   "outputs": [],
   "source": []
  },
  {
   "cell_type": "code",
   "execution_count": null,
   "metadata": {},
   "outputs": [],
   "source": [
    "인구통계 = {'서울': [1053.5, 1023, 987],\n",
    "            '경기':[1023, 1067, 1123],\n",
    "            '충청':[512,489,487],\n",
    "            '경상':[897, 872, 811],\n",
    "            '전라':[451, 421, 399]\n",
    "            }\n",
    "\n",
    "df = pd.DataFrame(인구통계)\n",
    "df.index = [2015, 2016, 2017]\n",
    "df"
   ]
  },
  {
   "cell_type": "code",
   "execution_count": null,
   "metadata": {
    "scrolled": false
   },
   "outputs": [],
   "source": [
    "# 기본 그리기\n",
    "# https://pandas.pydata.org/pandas-docs/stable/generated/pandas.DataFrame.plot.html\n",
    "df.plot(kind =  \n",
    "        title = \n",
    "        figsize = \n",
    "        style = \n",
    "        lw = \n",
    "        subplots = \n",
    "        xticks = \n",
    "       )"
   ]
  },
  {
   "cell_type": "code",
   "execution_count": null,
   "metadata": {},
   "outputs": [],
   "source": [
    "import matplotlib\n",
    "# 한글 깨짐 방지\n",
    "matplotlib.rcParams['font.family'].insert(0, 'Malgun Gothic')\n",
    "# Mac OS인 경우에는 AppleGothic 추가"
   ]
  },
  {
   "cell_type": "code",
   "execution_count": null,
   "metadata": {},
   "outputs": [],
   "source": []
  },
  {
   "cell_type": "code",
   "execution_count": null,
   "metadata": {},
   "outputs": [],
   "source": [
    "# 실습. 아래 그림처럼 연도별 지역별 인구수 그래프 그리기\n"
   ]
  },
  {
   "cell_type": "markdown",
   "metadata": {},
   "source": [
    "<img src=\"img/예제실습/그림의구조.jpg\" alt=\"그림의구조\" style=\"width: 1200px;\"/>"
   ]
  },
  {
   "cell_type": "markdown",
   "metadata": {},
   "source": [
    "# 2. 왕좌의 게임 데이터 분석 및 시각화 실습\n",
    "## 1. 데이터 불러오기"
   ]
  },
  {
   "cell_type": "code",
   "execution_count": null,
   "metadata": {},
   "outputs": [],
   "source": []
  },
  {
   "cell_type": "markdown",
   "metadata": {},
   "source": [
    "## 2. 책의 챕터(Book of Death)별로 사망자 수 추이 시각화"
   ]
  },
  {
   "cell_type": "code",
   "execution_count": null,
   "metadata": {},
   "outputs": [],
   "source": []
  },
  {
   "cell_type": "code",
   "execution_count": null,
   "metadata": {
    "scrolled": false
   },
   "outputs": [],
   "source": []
  },
  {
   "cell_type": "markdown",
   "metadata": {},
   "source": [
    "## 3. 대규모 전쟁의  공격진영과 수비 진영의 숫자 시각화\n",
    "### 대규모 전쟁 = 공격과 수비 모두 합쳐서 10,000명 이상 참가한 전쟁"
   ]
  },
  {
   "cell_type": "code",
   "execution_count": null,
   "metadata": {
    "scrolled": false
   },
   "outputs": [],
   "source": [
    "# 1. 대규모 전쟁만 선택\n"
   ]
  },
  {
   "cell_type": "code",
   "execution_count": null,
   "metadata": {},
   "outputs": [],
   "source": [
    "# 2. 필요한 컬럼만 선택\n"
   ]
  },
  {
   "cell_type": "code",
   "execution_count": null,
   "metadata": {},
   "outputs": [],
   "source": []
  },
  {
   "cell_type": "code",
   "execution_count": null,
   "metadata": {
    "scrolled": true
   },
   "outputs": [],
   "source": [
    "# big_battles 시각화\n"
   ]
  },
  {
   "cell_type": "markdown",
   "metadata": {},
   "source": [
    "## 4. 년도별로 사망자의 숫자와 전쟁이 벌어진 횟수 시각화"
   ]
  },
  {
   "cell_type": "code",
   "execution_count": null,
   "metadata": {},
   "outputs": [],
   "source": []
  }
 ],
 "metadata": {
  "kernelspec": {
   "display_name": "Python 3",
   "language": "python",
   "name": "python3"
  },
  "language_info": {
   "codemirror_mode": {
    "name": "ipython",
    "version": 3
   },
   "file_extension": ".py",
   "mimetype": "text/x-python",
   "name": "python",
   "nbconvert_exporter": "python",
   "pygments_lexer": "ipython3",
   "version": "3.7.4"
  },
  "toc": {
   "base_numbering": 1,
   "nav_menu": {},
   "number_sections": true,
   "sideBar": true,
   "skip_h1_title": false,
   "title_cell": "Table of Contents",
   "title_sidebar": "Contents",
   "toc_cell": false,
   "toc_position": {},
   "toc_section_display": true,
   "toc_window_display": false
  }
 },
 "nbformat": 4,
 "nbformat_minor": 2
}

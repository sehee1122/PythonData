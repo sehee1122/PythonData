{
 "cells": [
  {
   "cell_type": "markdown",
   "metadata": {},
   "source": [
    "## 피라미드 만들어보기(for문 사용)"
   ]
  },
  {
   "cell_type": "code",
   "execution_count": null,
   "metadata": {},
   "outputs": [],
   "source": [
    "# 여기 셀에 코드 작성하지말고 밑에 셀에서 작성해주세요"
   ]
  },
  {
   "cell_type": "code",
   "execution_count": null,
   "metadata": {},
   "outputs": [],
   "source": []
  },
  {
   "cell_type": "code",
   "execution_count": 23,
   "metadata": {},
   "outputs": [
    {
     "name": "stdout",
     "output_type": "stream",
     "text": [
      "     *\n",
      "    ***\n",
      "   *****\n",
      "  *******\n"
     ]
    }
   ],
   "source": [
    "for i in range(4):\n",
    "    print(' '*(4-i), '*'*(2*i+1))"
   ]
  },
  {
   "cell_type": "markdown",
   "metadata": {},
   "source": [
    "# 피라미드 만들어보기(for문, if문 사용)\n",
    "## for문 1번만 사용"
   ]
  },
  {
   "cell_type": "code",
   "execution_count": null,
   "metadata": {},
   "outputs": [],
   "source": [
    "# 여기 셀에 코드 작성하지말고 밑에 셀에서 작성해주세요"
   ]
  },
  {
   "cell_type": "code",
   "execution_count": null,
   "metadata": {},
   "outputs": [],
   "source": [
    "0\n",
    "1\n",
    "2\n",
    "3\n",
    "4\n",
    "5\n",
    "6\n",
    "7"
   ]
  },
  {
   "cell_type": "code",
   "execution_count": 1,
   "metadata": {},
   "outputs": [
    {
     "name": "stdout",
     "output_type": "stream",
     "text": [
      "*\n",
      "***\n",
      "*****\n",
      "*******\n",
      "*******\n",
      "*****\n",
      "***\n",
      "*\n"
     ]
    }
   ],
   "source": [
    "for i in range(8):\n",
    "    if i<4:\n",
    "        print('*'*(2*i+1))\n",
    "    else:\n",
    "        print('*'*(2*(7-i)+1))"
   ]
  },
  {
   "cell_type": "markdown",
   "metadata": {},
   "source": [
    "# 1~1000 사이의\n",
    "## 3의 배수, 4의배수 list자료구조 각각 만들어보기"
   ]
  },
  {
   "cell_type": "code",
   "execution_count": 5,
   "metadata": {},
   "outputs": [],
   "source": [
    "multiple_3 = [x for x in range(3, 1001, 3)]\n",
    "multiple_4 = [x for x in range(4, 1001, 4)]"
   ]
  },
  {
   "cell_type": "code",
   "execution_count": 2,
   "metadata": {},
   "outputs": [],
   "source": [
    "multiple_3 = [x for x in range(1, 1001) if x%3==0]"
   ]
  },
  {
   "cell_type": "markdown",
   "metadata": {},
   "source": [
    "# 위의 2가지 list자료구조에서 공통으로 포함된 숫자 list에 담아고 정렬하기\n",
    "## HINT : 다른 자료구조를 통해서 공통집합을 찾고 list()함수를 이용하여 list 자료구조료 변환"
   ]
  },
  {
   "cell_type": "code",
   "execution_count": 7,
   "metadata": {},
   "outputs": [],
   "source": [
    "multiple_12 = set(multiple_3).intersection(set(multiple_4))"
   ]
  },
  {
   "cell_type": "code",
   "execution_count": 15,
   "metadata": {},
   "outputs": [
    {
     "name": "stdout",
     "output_type": "stream",
     "text": [
      "[12, 24, 36, 48, 60, 72, 84, 96, 108, 120, 132, 144, 156, 168, 180, 192, 204, 216, 228, 240, 252, 264, 276, 288, 300, 312, 324, 336, 348, 360, 372, 384, 396, 408, 420, 432, 444, 456, 468, 480, 492, 504, 516, 528, 540, 552, 564, 576, 588, 600, 612, 624, 636, 648, 660, 672, 684, 696, 708, 720, 732, 744, 756, 768, 780, 792, 804, 816, 828, 840, 852, 864, 876, 888, 900, 912, 924, 936, 948, 960, 972, 984, 996]\n"
     ]
    }
   ],
   "source": [
    "multiple_12 = list(multiple_12)\n",
    "multiple_12.sort()\n",
    "print(multiple_12)"
   ]
  },
  {
   "cell_type": "markdown",
   "metadata": {},
   "source": [
    "# 아래와 같은 student dictionary자료구조가 있을때\n",
    "# age의 총합 구해보기"
   ]
  },
  {
   "cell_type": "code",
   "execution_count": null,
   "metadata": {},
   "outputs": [],
   "source": [
    "{key : value}\n",
    "{key : {key : value}}\n",
    "{key : {key : {key : value}}}"
   ]
  },
  {
   "cell_type": "code",
   "execution_count": 17,
   "metadata": {},
   "outputs": [],
   "source": [
    "student = {1: {'name': 'a', 'age': 27},\n",
    "           2: {'name': 'b', 'age': 25},\n",
    "           3: {'name': 'c', 'age': 31},\n",
    "           4: {'name': 'd', 'age': 22},\n",
    "           5: {'name': 'e', 'age': 15}}"
   ]
  },
  {
   "cell_type": "code",
   "execution_count": 21,
   "metadata": {},
   "outputs": [
    {
     "name": "stdout",
     "output_type": "stream",
     "text": [
      "27\n",
      "25\n",
      "31\n",
      "22\n",
      "15\n"
     ]
    }
   ],
   "source": [
    "sum_age = 0\n",
    "\n",
    "for i in student.keys():\n",
    "    # sum_age = sum_age + student[i]['age']\n",
    "    sum_age += student[i]['age']"
   ]
  },
  {
   "cell_type": "code",
   "execution_count": 23,
   "metadata": {},
   "outputs": [
    {
     "name": "stdout",
     "output_type": "stream",
     "text": [
      "1\n"
     ]
    }
   ],
   "source": [
    "a = 0\n",
    "for i in range(5):\n",
    "    b = 1\n",
    "    \n",
    "print(b)"
   ]
  },
  {
   "cell_type": "code",
   "execution_count": null,
   "metadata": {},
   "outputs": [],
   "source": []
  },
  {
   "cell_type": "code",
   "execution_count": null,
   "metadata": {},
   "outputs": [],
   "source": []
  }
 ],
 "metadata": {
  "kernelspec": {
   "display_name": "Python 3",
   "language": "python",
   "name": "python3"
  }
 },
 "nbformat": 4,
 "nbformat_minor": 2
}

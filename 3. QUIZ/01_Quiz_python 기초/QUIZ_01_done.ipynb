{
 "cells": [
  {
   "cell_type": "markdown",
   "metadata": {
    "colab_type": "text",
    "id": "LD2rb7B4pxWU"
   },
   "source": [
    "## 피라미드 만들어보기(for문 사용)"
   ]
  },
  {
   "cell_type": "code",
   "execution_count": 2,
   "metadata": {
    "colab": {},
    "colab_type": "code",
    "id": "iS5m9HlFpxWj"
   },
   "outputs": [
    {
     "name": "stdout",
     "output_type": "stream",
     "text": [
      "     *\n",
      "    ***\n",
      "   *****\n",
      "  *******\n"
     ]
    }
   ],
   "source": [
    "# 여기 셀에 코드 작성하지말고 밑에 셀에서 작성해주세요"
   ]
  },
  {
   "cell_type": "code",
   "execution_count": 7,
   "metadata": {
    "colab": {},
    "colab_type": "code",
    "id": "sQqXM_UdpxW3",
    "scrolled": true
   },
   "outputs": [
    {
     "name": "stdout",
     "output_type": "stream",
     "text": [
      "     *\n",
      "    ***\n",
      "   *****\n",
      "  *******\n"
     ]
    }
   ],
   "source": [
    "for i in range(1, 5):\n",
    "    print(\" \" * (5-i), \"*\" * (2*i-1))"
   ]
  },
  {
   "cell_type": "code",
   "execution_count": 9,
   "metadata": {},
   "outputs": [
    {
     "name": "stdout",
     "output_type": "stream",
     "text": [
      "      \n",
      "     *\n",
      "    ***\n",
      "   *****\n",
      "  *******\n"
     ]
    }
   ],
   "source": [
    "# 모범답안: python index의 range가 0부터 쓰는 습관\n",
    "\n",
    "for i in range(0, 5):\n",
    "    print(\" \" * (5-i), \"*\" * (2*i-1))"
   ]
  },
  {
   "cell_type": "code",
   "execution_count": 27,
   "metadata": {},
   "outputs": [
    {
     "name": "stdout",
     "output_type": "stream",
     "text": [
      "Pyramid height: 5\n",
      "      *\n",
      "     ***\n",
      "    *****\n",
      "   *******\n",
      "  *********\n"
     ]
    }
   ],
   "source": [
    "n = int(input('Pyramid height: '))\n",
    "for i in range(1, n+1):\n",
    "    print(\" \" * (n+1-i), \"*\" * (2*i-1))"
   ]
  },
  {
   "cell_type": "markdown",
   "metadata": {
    "colab_type": "text",
    "id": "rW9NJCZMpxXK"
   },
   "source": [
    "# 피라미드 만들어보기(for문, if문 사용)\n",
    "## for문 1번만 사용"
   ]
  },
  {
   "cell_type": "code",
   "execution_count": 7,
   "metadata": {
    "colab": {},
    "colab_type": "code",
    "id": "uAHHGMcvpxXR",
    "scrolled": true
   },
   "outputs": [
    {
     "name": "stdout",
     "output_type": "stream",
     "text": [
      "*\n",
      "***\n",
      "*****\n",
      "*******\n",
      "*******\n",
      "*****\n",
      "***\n",
      "*\n"
     ]
    }
   ],
   "source": [
    "# 여기 셀에 코드 작성하지말고 밑에 셀에서 작성해주세요"
   ]
  },
  {
   "cell_type": "code",
   "execution_count": 73,
   "metadata": {
    "colab": {},
    "colab_type": "code",
    "id": "hw6mLQHKpxXj"
   },
   "outputs": [
    {
     "name": "stdout",
     "output_type": "stream",
     "text": [
      "Pyramid width/2: 4\n",
      "*\n",
      "***\n",
      "*****\n",
      "*******\n",
      "*******\n",
      "*****\n",
      "***\n",
      "*\n"
     ]
    }
   ],
   "source": [
    "# for문 두 번 사용\n",
    "# width에 맞게 n 조절 실패\n",
    "n = int(input('Pyramid width/2: '))\n",
    "if n % 2 == 0:\n",
    "    for i in range(1, (n+1)):\n",
    "        print(\"*\" * (2*i-1))\n",
    "    for i in range(n, 0, -1):\n",
    "        print(\"*\" * (2*i-1))\n",
    "else:\n",
    "    for i in range(1, n):\n",
    "        print(\"*\" * (2*i-1))\n",
    "    for i in range(n, 0, -1):\n",
    "        print(\"*\" * (2*i-1))"
   ]
  },
  {
   "cell_type": "code",
   "execution_count": 50,
   "metadata": {},
   "outputs": [
    {
     "name": "stdout",
     "output_type": "stream",
     "text": [
      "Pyramid width: 8\n",
      "*\n",
      "***\n",
      "*****\n",
      "*******\n",
      "*******\n",
      "*****\n",
      "***\n",
      "*\n"
     ]
    }
   ],
   "source": [
    "# for문 한 번 사용\n",
    "n = int(input('Pyramid width: '))\n",
    "for i in range(1, n*2+1, 2):\n",
    "    if i <= n:\n",
    "        print(\"*\" * i)\n",
    "    else:\n",
    "        print(\"*\" * (n*2-i))"
   ]
  },
  {
   "cell_type": "code",
   "execution_count": 1,
   "metadata": {},
   "outputs": [
    {
     "name": "stdout",
     "output_type": "stream",
     "text": [
      "*\n",
      "***\n",
      "*****\n",
      "*******\n",
      "*******\n",
      "*****\n",
      "***\n",
      "*\n"
     ]
    }
   ],
   "source": [
    "# 모범답안\n",
    "\n",
    "for i in range(8):\n",
    "    if i < 4:\n",
    "        print('*' * (2*i+1))\n",
    "    else:\n",
    "        print('*' * (2*(7-i) + 1))"
   ]
  },
  {
   "cell_type": "markdown",
   "metadata": {
    "colab_type": "text",
    "id": "CQd4GpxXpxXy"
   },
   "source": [
    "# 1~1000 사이의\n",
    "## 3의 배수, 4의배수 list자료구조 각각 만들어보기"
   ]
  },
  {
   "cell_type": "code",
   "execution_count": 29,
   "metadata": {
    "colab": {},
    "colab_type": "code",
    "id": "mW1xXtPwpxX6"
   },
   "outputs": [],
   "source": [
    "# 모범답안과 동일\n",
    "\n",
    "mul_3 = [x for x in range(3, 1001, 3)]\n",
    "mul_4 = [y for y in range(4, 1001, 4)]"
   ]
  },
  {
   "cell_type": "code",
   "execution_count": 4,
   "metadata": {
    "scrolled": true
   },
   "outputs": [],
   "source": [
    "# 추가 의견\n",
    "\n",
    "multiple_3 = [x for x in range(3, 1001) if x % 3 == 0]\n",
    "multiple_4 = [x for x in range(1, 1001) if x % 4 == 0]"
   ]
  },
  {
   "cell_type": "markdown",
   "metadata": {
    "colab_type": "text",
    "id": "YQRcobjhpxYP"
   },
   "source": [
    "# 위의 2가지 list자료구조에서 공통으로 포함된 숫자 list에 담아서 정렬하기\n",
    "## HINT : 다른 자료구조를 통해서 공통집합을 찾고 list()함수를 이용하여 list 자료구조료 변환"
   ]
  },
  {
   "cell_type": "code",
   "execution_count": 105,
   "metadata": {
    "colab": {},
    "colab_type": "code",
    "id": "7UI-GGm3pxYW"
   },
   "outputs": [
    {
     "name": "stdout",
     "output_type": "stream",
     "text": [
      "[12, 24, 36, 48, 60, 72, 84, 96]\n"
     ]
    }
   ],
   "source": [
    "mul_12 = list(set(mul_3).intersection(mul_4))\n",
    "mul_12.sort(reverse=False)\n",
    "print(mul_12)\n",
    "\n",
    "'''\n",
    "# list item을 dictionary로 변환\n",
    "set3 = dict(zip(range(len(mul_3)), mul_3))\n",
    "set4 = dict(zip(range(len(mul_4)), mul_4))\n",
    "# set 자료구조를 통해 중복된 값 제거 - 교집합\n",
    "set3 & set4\n",
    "'''"
   ]
  },
  {
   "cell_type": "code",
   "execution_count": null,
   "metadata": {},
   "outputs": [],
   "source": [
    "# 모범답안\n",
    "\n",
    "multiple_12 = set(multiple_3).intersection(set(multiple_4))\n",
    "list(multiple_12)\n",
    "# list 자료구조로 바뀐 것이 아니라 리스트로 출력만 한 것. \n",
    "multiple_12.sort"
   ]
  },
  {
   "cell_type": "code",
   "execution_count": null,
   "metadata": {},
   "outputs": [],
   "source": [
    "multiple_12 = list(multiple_12)\n",
    "# Out: 변수 입력된 부분을 보여주는 것\n",
    "multiple_12\n",
    "# 출력: enter 없이 \n",
    "print(multiple_12)"
   ]
  },
  {
   "cell_type": "markdown",
   "metadata": {
    "colab_type": "text",
    "id": "emBS88AUpxYj"
   },
   "source": [
    "# 아래와 같은 student dictionary자료구조가 있을때\n",
    "# age의 총합 구해보기"
   ]
  },
  {
   "cell_type": "code",
   "execution_count": 12,
   "metadata": {
    "colab": {},
    "colab_type": "code",
    "id": "3BT2sLo0pxYm"
   },
   "outputs": [],
   "source": [
    "student = {1: {'name': 'a', 'age': 27},\n",
    "           2: {'name': 'b', 'age': 25},\n",
    "           3: {'name': 'c', 'age': 31},\n",
    "           4: {'name': 'd', 'age': 22},\n",
    "           5: {'name': 'e', 'age': 15}}"
   ]
  },
  {
   "cell_type": "code",
   "execution_count": 17,
   "metadata": {
    "colab": {},
    "colab_type": "code",
    "id": "RUM5KvYtpxYu"
   },
   "outputs": [
    {
     "name": "stdout",
     "output_type": "stream",
     "text": [
      "The total age of all students is 120 .\n"
     ]
    }
   ],
   "source": [
    "sum_age = 0\n",
    "\n",
    "for i in range(1, len(student)+1):\n",
    "    sum_age += student[i]['age']\n",
    "print('The total age of all students is', sum_age, '.')"
   ]
  },
  {
   "cell_type": "code",
   "execution_count": null,
   "metadata": {},
   "outputs": [],
   "source": [
    "'''\n",
    "{key: value}\n",
    "{key: {key: value}}\n",
    "{key: {key: {key: value}}}\n",
    "'''"
   ]
  },
  {
   "cell_type": "code",
   "execution_count": 19,
   "metadata": {},
   "outputs": [],
   "source": [
    "# 모범답안\n",
    "\n",
    "sum_age = 0\n",
    "\n",
    "for i in student.keys():\n",
    "    sum_age += student[i]['age']"
   ]
  }
 ],
 "metadata": {
  "colab": {
   "name": "QUIZ_01.ipynb",
   "provenance": []
  },
  "kernelspec": {
   "display_name": "Python 3",
   "language": "python",
   "name": "python3"
  },
  "language_info": {
   "codemirror_mode": {
    "name": "ipython",
    "version": 3
   },
   "file_extension": ".py",
   "mimetype": "text/x-python",
   "name": "python",
   "nbconvert_exporter": "python",
   "pygments_lexer": "ipython3",
   "version": "3.7.4"
  }
 },
 "nbformat": 4,
 "nbformat_minor": 1
}

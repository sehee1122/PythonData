{
 "cells": [
  {
   "cell_type": "markdown",
   "metadata": {
    "colab_type": "text",
    "id": "LD2rb7B4pxWU"
   },
   "source": [
    "## 피라미드 만들어보기(for문 사용)"
   ]
  },
  {
   "cell_type": "code",
   "execution_count": 2,
   "metadata": {
    "colab": {},
    "colab_type": "code",
    "id": "iS5m9HlFpxWj"
   },
   "outputs": [
    {
     "name": "stdout",
     "output_type": "stream",
     "text": [
      "     *\n",
      "    ***\n",
      "   *****\n",
      "  *******\n"
     ]
    }
   ],
   "source": [
    "# 여기 셀에 코드 작성하지말고 밑에 셀에서 작성해주세요"
   ]
  },
  {
   "cell_type": "code",
   "execution_count": 0,
   "metadata": {
    "colab": {},
    "colab_type": "code",
    "id": "sQqXM_UdpxW3"
   },
   "outputs": [],
   "source": []
  },
  {
   "cell_type": "markdown",
   "metadata": {
    "colab_type": "text",
    "id": "rW9NJCZMpxXK"
   },
   "source": [
    "# 피라미드 만들어보기(for문, if문 사용)\n",
    "## for문 1번만 사용"
   ]
  },
  {
   "cell_type": "code",
   "execution_count": 7,
   "metadata": {
    "colab": {},
    "colab_type": "code",
    "id": "uAHHGMcvpxXR"
   },
   "outputs": [
    {
     "name": "stdout",
     "output_type": "stream",
     "text": [
      "*\n",
      "***\n",
      "*****\n",
      "*******\n",
      "*******\n",
      "*****\n",
      "***\n",
      "*\n"
     ]
    }
   ],
   "source": [
    "# 여기 셀에 코드 작성하지말고 밑에 셀에서 작성해주세요"
   ]
  },
  {
   "cell_type": "code",
   "execution_count": 0,
   "metadata": {
    "colab": {},
    "colab_type": "code",
    "id": "hw6mLQHKpxXj"
   },
   "outputs": [],
   "source": []
  },
  {
   "cell_type": "markdown",
   "metadata": {
    "colab_type": "text",
    "id": "CQd4GpxXpxXy"
   },
   "source": [
    "# 1~1000 사이의\n",
    "## 3의 배수, 4의배수 list자료구조 각각 만들어보기"
   ]
  },
  {
   "cell_type": "code",
   "execution_count": 0,
   "metadata": {
    "colab": {},
    "colab_type": "code",
    "id": "mW1xXtPwpxX6"
   },
   "outputs": [],
   "source": []
  },
  {
   "cell_type": "markdown",
   "metadata": {
    "colab_type": "text",
    "id": "YQRcobjhpxYP"
   },
   "source": [
    "# 위의 2가지 list자료구조에서 공통으로 포함된 숫자 list에 담아고 정렬하기\n",
    "## HINT : 다른 자료구조를 통해서 공통집합을 찾고 list()함수를 이용하여 list 자료구조료 변환"
   ]
  },
  {
   "cell_type": "code",
   "execution_count": 0,
   "metadata": {
    "colab": {},
    "colab_type": "code",
    "id": "7UI-GGm3pxYW"
   },
   "outputs": [],
   "source": []
  },
  {
   "cell_type": "markdown",
   "metadata": {
    "colab_type": "text",
    "id": "emBS88AUpxYj"
   },
   "source": [
    "# 아래와 같은 student dictionary자료구조가 있을때\n",
    "# age의 총합 구해보기"
   ]
  },
  {
   "cell_type": "code",
   "execution_count": 0,
   "metadata": {
    "colab": {},
    "colab_type": "code",
    "id": "3BT2sLo0pxYm"
   },
   "outputs": [],
   "source": [
    "student = {1: {'name': 'a', 'age': 27},\n",
    "           2: {'name': 'b', 'age': 25},\n",
    "           3: {'name': 'c', 'age': 31},\n",
    "           4: {'name': 'd', 'age': 22},\n",
    "           5: {'name': 'e', 'age': 15}}"
   ]
  },
  {
   "cell_type": "code",
   "execution_count": 0,
   "metadata": {
    "colab": {},
    "colab_type": "code",
    "id": "RUM5KvYtpxYu"
   },
   "outputs": [],
   "source": []
  }
 ],
 "metadata": {
  "colab": {
   "name": "QUIZ_01.ipynb",
   "provenance": []
  },
  "kernelspec": {
   "display_name": "Python 3",
   "language": "python",
   "name": "python3"
  }
 },
 "nbformat": 4,
 "nbformat_minor": 1
}

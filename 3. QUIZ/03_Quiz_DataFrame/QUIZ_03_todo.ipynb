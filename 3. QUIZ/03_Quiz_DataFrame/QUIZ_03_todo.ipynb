{
 "cells": [
  {
   "cell_type": "markdown",
   "metadata": {},
   "source": [
    "## pandas 불러오기"
   ]
  },
  {
   "cell_type": "code",
   "execution_count": null,
   "metadata": {},
   "outputs": [],
   "source": []
  },
  {
   "cell_type": "markdown",
   "metadata": {},
   "source": [
    "## 1. 아래의 baseball_dic에서 \n",
    "## 밑에 있는 타율, 안타, 홈런, 타점 데이터를\n",
    "## dictionary 형식으로 추가해서 데이터프레임을 최종 완성해주세요\n",
    "### column name은 타율(avg), 안타(hit), 홈런(homerun), 타점(rbi)로 해주세요(한글x)"
   ]
  },
  {
   "cell_type": "code",
   "execution_count": null,
   "metadata": {},
   "outputs": [],
   "source": [
    "baseball_dic = {'order':[x for x in range(1, 20)],\n",
    "                'name':['김현수', '양의지', '이정후', '박병호', '안치홍', '전준우', '김주찬', '최형우',\n",
    "                        '유한준', '김재환', '최주환', '이대호', '구자욱', '채은성', '러프', '이재원', '손아섭', \n",
    "                        '박건우', '허경민'],\n",
    "                'team':['LG', '두산', '넥센', '넥센', 'KIA', '롯데', 'KIA', 'KIA',\n",
    "                        'KT', '두산', '두산', '롯데', '삼성', 'LG', '삼성', 'SK', '롯데', \n",
    "                        '두산', '두산']}\n"
   ]
  },
  {
   "cell_type": "code",
   "execution_count": null,
   "metadata": {},
   "outputs": [],
   "source": [
    "# 타율\n",
    "0.362,0.358,0.355,0.345,0.342,0.342,0.34,0.339,0.339,0.334,0.333,0.333,0.333,0.331,0.33,0.329,0.329,0.326,0.324\n",
    "\n",
    "# 안타\n",
    "164,157,163,138,169,190,146,179,145,176,173,181,159,175,167,134,182,159,167\n",
    "\n",
    "# 홈런\n",
    "20,23,6,43,23,33,18,25,20,44,26,37,20,25,33,17,26,12,10\n",
    "\n",
    "# 타점\n",
    "101,77,57,112,118,90,93,103,83,133,108,125,84,119,125,57,93,84,79"
   ]
  },
  {
   "cell_type": "code",
   "execution_count": null,
   "metadata": {},
   "outputs": [],
   "source": [
    "# 최종 data frmae"
   ]
  },
  {
   "cell_type": "markdown",
   "metadata": {},
   "source": [
    "## (1)의 data frame을 이용해서 문제를 풀어주세요"
   ]
  },
  {
   "cell_type": "code",
   "execution_count": null,
   "metadata": {},
   "outputs": [],
   "source": [
    "# 1~10순위의 name과 homerun column만 불러오기\n"
   ]
  },
  {
   "cell_type": "code",
   "execution_count": null,
   "metadata": {},
   "outputs": [],
   "source": [
    "# 11~20순위의 order, team, hit, rbi 불러오기\n",
    "# order, team, hit, rbi는 column이 1개씩 건너띄는 column입니다 이를 생각하고 풀어주세요\n",
    "# ['order', 'team', 'hit', 'rbi'] <- 이거 사용 금지!\n"
   ]
  },
  {
   "cell_type": "code",
   "execution_count": null,
   "metadata": {},
   "outputs": [],
   "source": [
    "# for문을 사용해서 타점(rbi)이 100이상인 사람이 몇명인지 출력해보기\n"
   ]
  },
  {
   "cell_type": "code",
   "execution_count": null,
   "metadata": {},
   "outputs": [],
   "source": [
    "# 타율이 0.3이상이고 홈런이 30개이상인 선수들의 평균 타율, 평균 안타, 평균 홈런, 평균 타점을 출력해주세요\n"
   ]
  },
  {
   "cell_type": "code",
   "execution_count": null,
   "metadata": {},
   "outputs": [],
   "source": [
    "# hh라는 이름으로 hit * 1 + homerun * 4 column 추가하기\n"
   ]
  },
  {
   "cell_type": "code",
   "execution_count": null,
   "metadata": {},
   "outputs": [],
   "source": [
    "# 각 팀에 해당되는 인원이 몇명이 있는지 확인해보기\n",
    "# data frame에 있는 두산, 롯데, KIA, 삼성, 넥센, LG, KT, SK에 각각 몇명이 있는지 출력\n"
   ]
  }
 ],
 "metadata": {
  "kernelspec": {
   "display_name": "Python 3",
   "language": "python",
   "name": "python3"
  },
  "language_info": {
   "codemirror_mode": {
    "name": "ipython",
    "version": 3
   },
   "file_extension": ".py",
   "mimetype": "text/x-python",
   "name": "python",
   "nbconvert_exporter": "python",
   "pygments_lexer": "ipython3",
   "version": "3.7.4"
  }
 },
 "nbformat": 4,
 "nbformat_minor": 2
}

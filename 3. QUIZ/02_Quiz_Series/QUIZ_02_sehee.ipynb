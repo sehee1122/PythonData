{
 "cells": [
  {
   "cell_type": "markdown",
   "metadata": {},
   "source": [
    "## 1. pandas library 불러오기"
   ]
  },
  {
   "cell_type": "code",
   "execution_count": 1,
   "metadata": {},
   "outputs": [],
   "source": [
    "import pandas as pd"
   ]
  },
  {
   "cell_type": "markdown",
   "metadata": {},
   "source": [
    "## 2. 100부터 시작해서 1000까지 3씩 증가하는 값을 Series에 담아주세요"
   ]
  },
  {
   "cell_type": "code",
   "execution_count": 3,
   "metadata": {},
   "outputs": [
    {
     "data": {
      "text/plain": [
       "0       100\n",
       "1       103\n",
       "2       106\n",
       "3       109\n",
       "4       112\n",
       "       ... \n",
       "296     988\n",
       "297     991\n",
       "298     994\n",
       "299     997\n",
       "300    1000\n",
       "Length: 301, dtype: int64"
      ]
     },
     "execution_count": 3,
     "metadata": {},
     "output_type": "execute_result"
    }
   ],
   "source": [
    "data = pd.Series(list([x for x in range(100, 1001, 3)]))\n",
    "data"
   ]
  },
  {
   "cell_type": "markdown",
   "metadata": {},
   "source": [
    "## 3. 2번의 Series에서 평균보다 큰 값만 추출해주세요"
   ]
  },
  {
   "cell_type": "code",
   "execution_count": 4,
   "metadata": {},
   "outputs": [
    {
     "data": {
      "text/plain": [
       "151     553\n",
       "152     556\n",
       "153     559\n",
       "154     562\n",
       "155     565\n",
       "       ... \n",
       "296     988\n",
       "297     991\n",
       "298     994\n",
       "299     997\n",
       "300    1000\n",
       "Length: 150, dtype: int64"
      ]
     },
     "execution_count": 4,
     "metadata": {},
     "output_type": "execute_result"
    }
   ],
   "source": [
    "data[(data > data.mean())]"
   ]
  },
  {
   "cell_type": "markdown",
   "metadata": {},
   "source": [
    "## 4. 2번의 Series에서 25%보다 큰 값만 추출해주세요\n",
    "### HINT : describe()함수 사용"
   ]
  },
  {
   "cell_type": "code",
   "execution_count": 14,
   "metadata": {},
   "outputs": [
    {
     "data": {
      "text/plain": [
       "count     301.0000\n",
       "mean      550.0000\n",
       "std       261.1063\n",
       "min       100.0000\n",
       "25%       325.0000\n",
       "50%       550.0000\n",
       "75%       775.0000\n",
       "max      1000.0000\n",
       "dtype: float64"
      ]
     },
     "execution_count": 14,
     "metadata": {},
     "output_type": "execute_result"
    }
   ],
   "source": [
    "data.describe()"
   ]
  },
  {
   "cell_type": "code",
   "execution_count": 15,
   "metadata": {},
   "outputs": [
    {
     "data": {
      "text/plain": [
       "76      328\n",
       "77      331\n",
       "78      334\n",
       "79      337\n",
       "80      340\n",
       "       ... \n",
       "296     988\n",
       "297     991\n",
       "298     994\n",
       "299     997\n",
       "300    1000\n",
       "Length: 225, dtype: int64"
      ]
     },
     "execution_count": 15,
     "metadata": {},
     "output_type": "execute_result"
    }
   ],
   "source": [
    "data[data > 325]"
   ]
  },
  {
   "cell_type": "markdown",
   "metadata": {},
   "source": [
    "## 5. Series 만들어보기"
   ]
  },
  {
   "cell_type": "code",
   "execution_count": 2,
   "metadata": {},
   "outputs": [
    {
     "data": {
      "text/plain": [
       "부산    100000\n",
       "서울    120000\n",
       "인천     50000\n",
       "대구     70000\n",
       "dtype: int64"
      ]
     },
     "execution_count": 2,
     "metadata": {},
     "output_type": "execute_result"
    }
   ],
   "source": [
    "# population_2015라는 변수에 list를 이용해서 아래와 같은 Series를 만들어주세요\n",
    "# 셀 작성은 아래 셀에서 진행해주세요"
   ]
  },
  {
   "cell_type": "code",
   "execution_count": 8,
   "metadata": {},
   "outputs": [
    {
     "data": {
      "text/plain": [
       "부산    100000\n",
       "서울    120000\n",
       "인천     50000\n",
       "대구     70000\n",
       "dtype: int64"
      ]
     },
     "execution_count": 8,
     "metadata": {},
     "output_type": "execute_result"
    }
   ],
   "source": [
    "# list: Series([data value], index=[data index])\n",
    "\n",
    "population = pd.Series([10, 12, 5, 7],\n",
    "                      index = ['부산', '서울', '인천', '대구'])\n",
    "population_2015 = population.mul(10000)\n",
    "population_2015"
   ]
  },
  {
   "cell_type": "code",
   "execution_count": 3,
   "metadata": {},
   "outputs": [
    {
     "data": {
      "text/plain": [
       "부산    150000\n",
       "서울    120000\n",
       "인천     60000\n",
       "대전    100000\n",
       "dtype: int64"
      ]
     },
     "execution_count": 3,
     "metadata": {},
     "output_type": "execute_result"
    }
   ],
   "source": [
    "# population_2016라는 변수에 dictionary를 이용해서 아래와 같은 Series를 만들어주세요 \n",
    "# 셀 작성은 아래 셀에서 진행해주세요"
   ]
  },
  {
   "cell_type": "code",
   "execution_count": 7,
   "metadata": {},
   "outputs": [
    {
     "data": {
      "text/plain": [
       "부산    150000\n",
       "서울    120000\n",
       "인천     60000\n",
       "대전    100000\n",
       "dtype: int64"
      ]
     },
     "execution_count": 7,
     "metadata": {},
     "output_type": "execute_result"
    }
   ],
   "source": [
    "# dictionary: Series({data index : data value})\n",
    "\n",
    "population_2016 = pd.Series(\n",
    "    {'부산': 150000, '서울': 120000, '인천': 60000, '대전': 100000})\n",
    "population_2016"
   ]
  },
  {
   "cell_type": "markdown",
   "metadata": {},
   "source": [
    "## 6. 부산 인천 도시의 인구 증가율을 구해주세요\n",
    "## 인구증가율 (2016년도 인구 - 2015년도 인구) / 2015년도 인구 * 100"
   ]
  },
  {
   "cell_type": "code",
   "execution_count": 12,
   "metadata": {},
   "outputs": [
    {
     "data": {
      "text/plain": [
       "대구     NaN\n",
       "대전     NaN\n",
       "부산    50.0\n",
       "서울     0.0\n",
       "인천    20.0\n",
       "dtype: float64"
      ]
     },
     "execution_count": 12,
     "metadata": {},
     "output_type": "execute_result"
    }
   ],
   "source": [
    "population_growth = (population_2016 - population_2015) / population_2015 * 100\n",
    "population_growth"
   ]
  }
 ],
 "metadata": {
  "kernelspec": {
   "display_name": "Python 3",
   "language": "python",
   "name": "python3"
  },
  "language_info": {
   "codemirror_mode": {
    "name": "ipython",
    "version": 3
   },
   "file_extension": ".py",
   "mimetype": "text/x-python",
   "name": "python",
   "nbconvert_exporter": "python",
   "pygments_lexer": "ipython3",
   "version": "3.7.4"
  }
 },
 "nbformat": 4,
 "nbformat_minor": 2
}

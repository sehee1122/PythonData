{
 "cells": [
  {
   "cell_type": "markdown",
   "metadata": {},
   "source": [
    "## 1. pandas library 불러오기"
   ]
  },
  {
   "cell_type": "code",
   "execution_count": 2,
   "metadata": {},
   "outputs": [],
   "source": [
    "import pandas as pd"
   ]
  },
  {
   "cell_type": "markdown",
   "metadata": {},
   "source": [
    "## 2. 100부터 시작해서 1000까지 3씩 증가하는 값을 Series에 담아주세요"
   ]
  },
  {
   "cell_type": "code",
   "execution_count": 3,
   "metadata": {},
   "outputs": [],
   "source": [
    "data = pd.Series([x for x in range(100, 1001, 3)])"
   ]
  },
  {
   "cell_type": "markdown",
   "metadata": {},
   "source": [
    "## 3. 2번의 Series에서 평균보다 큰 값만 추출해주세요"
   ]
  },
  {
   "cell_type": "code",
   "execution_count": 5,
   "metadata": {},
   "outputs": [
    {
     "data": {
      "text/plain": [
       "151     553\n",
       "152     556\n",
       "153     559\n",
       "154     562\n",
       "155     565\n",
       "       ... \n",
       "296     988\n",
       "297     991\n",
       "298     994\n",
       "299     997\n",
       "300    1000\n",
       "Length: 150, dtype: int64"
      ]
     },
     "execution_count": 5,
     "metadata": {},
     "output_type": "execute_result"
    }
   ],
   "source": [
    "data[data > data.mean()]"
   ]
  },
  {
   "cell_type": "markdown",
   "metadata": {},
   "source": [
    "## 4. 2번의 Series에서 25%보다 큰 값만 추출해주세요\n",
    "### HINT : describe()함수 사용"
   ]
  },
  {
   "cell_type": "code",
   "execution_count": 8,
   "metadata": {},
   "outputs": [
    {
     "data": {
      "text/plain": [
       "76      328\n",
       "77      331\n",
       "78      334\n",
       "79      337\n",
       "80      340\n",
       "       ... \n",
       "296     988\n",
       "297     991\n",
       "298     994\n",
       "299     997\n",
       "300    1000\n",
       "Length: 225, dtype: int64"
      ]
     },
     "execution_count": 8,
     "metadata": {},
     "output_type": "execute_result"
    }
   ],
   "source": [
    "data[data > data.describe()[4]]"
   ]
  },
  {
   "cell_type": "code",
   "execution_count": 11,
   "metadata": {},
   "outputs": [
    {
     "data": {
      "text/plain": [
       "부산    100000\n",
       "서울    120000\n",
       "인천     50000\n",
       "대전     70000\n",
       "dtype: int64"
      ]
     },
     "execution_count": 11,
     "metadata": {},
     "output_type": "execute_result"
    }
   ],
   "source": [
    "# population_2015라는 변수에 list를 이용해서 아래와 같은 Series를 만들어주세요\n",
    "# 셀 작성은 아래 셀에서 진행해주세요"
   ]
  },
  {
   "cell_type": "code",
   "execution_count": 27,
   "metadata": {},
   "outputs": [
    {
     "data": {
      "text/plain": [
       "부산    100000\n",
       "서울    120000\n",
       "인천     50000\n",
       "대구     70000\n",
       "dtype: int64"
      ]
     },
     "execution_count": 27,
     "metadata": {},
     "output_type": "execute_result"
    }
   ],
   "source": [
    "population_2015 = pd.Series([100000, 120000, 50000, 70000],\n",
    "                            index=['부산', '서울', '인천', '대구'])\n",
    "population_2015"
   ]
  },
  {
   "cell_type": "code",
   "execution_count": 14,
   "metadata": {},
   "outputs": [
    {
     "data": {
      "text/plain": [
       "부산    150000\n",
       "서울    120000\n",
       "인천     60000\n",
       "대전    100000\n",
       "dtype: int64"
      ]
     },
     "execution_count": 14,
     "metadata": {},
     "output_type": "execute_result"
    }
   ],
   "source": [
    "# population_2016라는 변수에 dictionary를 이용해서 아래와 같은 Series를 만들어주세요 \n",
    "# 셀 작성은 아래 셀에서 진행해주세요"
   ]
  },
  {
   "cell_type": "code",
   "execution_count": 28,
   "metadata": {},
   "outputs": [
    {
     "data": {
      "text/plain": [
       "부산    150000\n",
       "서울    120000\n",
       "인천     60000\n",
       "대전    100000\n",
       "dtype: int64"
      ]
     },
     "execution_count": 28,
     "metadata": {},
     "output_type": "execute_result"
    }
   ],
   "source": [
    "population_2016 = pd.Series({\"부산\": 150000, \"서울\": 120000, \"인천\": 60000, \"대전\": 100000})\n",
    "population_2016             "
   ]
  },
  {
   "cell_type": "markdown",
   "metadata": {},
   "source": [
    "## 부산 인천 도시의 인구 증가율을 구해주세요"
   ]
  },
  {
   "cell_type": "code",
   "execution_count": 31,
   "metadata": {},
   "outputs": [
    {
     "data": {
      "text/plain": [
       "부산    50.0\n",
       "인천    20.0\n",
       "dtype: float64"
      ]
     },
     "execution_count": 31,
     "metadata": {},
     "output_type": "execute_result"
    }
   ],
   "source": [
    "a = population_2015.iloc[[0,2]] \n",
    "b = population_2016.iloc[[0,2]]\n",
    "(b-a) / a * 100"
   ]
  }
 ],
 "metadata": {
  "kernelspec": {
   "display_name": "Python 3",
   "language": "python",
   "name": "python3"
  },
  "language_info": {
   "codemirror_mode": {
    "name": "ipython",
    "version": 3
   },
   "file_extension": ".py",
   "mimetype": "text/x-python",
   "name": "python",
   "nbconvert_exporter": "python",
   "pygments_lexer": "ipython3",
   "version": "3.7.4"
  }
 },
 "nbformat": 4,
 "nbformat_minor": 2
}
